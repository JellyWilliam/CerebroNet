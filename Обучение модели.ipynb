{
 "cells": [
  {
   "cell_type": "markdown",
   "id": "4fc5c1ae",
   "metadata": {},
   "source": [
    "## Импорт библиотек"
   ]
  },
  {
   "cell_type": "code",
   "execution_count": null,
   "id": "26f18578",
   "metadata": {
    "collapsed": false,
    "jupyter": {
     "outputs_hidden": false
    }
   },
   "outputs": [],
   "source": [
    "import warnings\n",
    "from pathlib import Path\n",
    "\n",
    "import torch\n",
    "from torch import nn, optim\n",
    "\n",
    "from utils import get_image_segmentation_model, Brain_MRI_Dataset, train_segmentation, test_segmentation, DiceLoss, FocalLoss, JaccardLoss\n",
    "\n",
    "warnings.filterwarnings(\"ignore\")"
   ]
  },
  {
   "cell_type": "markdown",
   "id": "20fbba55",
   "metadata": {},
   "source": [
    "## Конфигурация"
   ]
  },
  {
   "cell_type": "code",
   "execution_count": null,
   "id": "c929fbcb",
   "metadata": {
    "collapsed": false,
    "is_executing": true,
    "jupyter": {
     "outputs_hidden": false
    }
   },
   "outputs": [],
   "source": [
    "# Устройство, на котором будут происходить все вычисления\n",
    "device = \"cuda\" if torch.cuda.is_available() else \"cpu\"\n",
    "\n",
    "# Пути до датасета\n",
    "dataset_path = \"D:/ProjectsData/Brain MRI segmentation/kaggle_3m\"\n",
    "\n",
    "# Имя базовой модели для классификатора изображений\n",
    "image_model_type = \"deeplabv3_resnet101\"\n",
    "# Функция потерь (BCEWithLogitsLoss, DiceLoss, FocalLoss, JaccardLoss)\n",
    "criterion_name = \"JaccardLoss\"\n",
    "# Название оптимизатора (Adam, AdamW)\n",
    "optimizer_name = \"AdamW\"\n",
    "# Количество предсказываемых классов\n",
    "num_classes = 1\n",
    "# Загрузка весов модели\n",
    "pretrained = True\n",
    "# Заморозка весов модели (кроме последних слоёв)\n",
    "freeze_weight = False\n",
    "\n",
    "# Количество обучающих эпох\n",
    "num_epochs = 10\n",
    "# Размер батча при обучении\n",
    "batch_size = 12\n",
    "\n",
    "# Пути сохранения и загрузки чекпоинта\n",
    "save_path = \"./deeplabv3_resnet101.pth\"\n",
    "checkpoint_path = \"./deeplabv3_resnet101.pth\""
   ]
  },
  {
   "cell_type": "markdown",
   "id": "c0e42cde",
   "metadata": {},
   "source": [
    "## Инициализация необходимых переменных"
   ]
  },
  {
   "cell_type": "code",
   "execution_count": null,
   "id": "2369c539",
   "metadata": {
    "collapsed": false,
    "jupyter": {
     "outputs_hidden": false
    }
   },
   "outputs": [],
   "source": [
    "print(device)\n",
    "if device == \"cuda\":\n",
    "    print(torch.cuda.get_device_name())\n",
    "    torch.set_default_tensor_type('torch.cuda.FloatTensor')\n",
    "\n",
    "# Список путей до изображений (исключаем маски)\n",
    "path_array = list(Path(dataset_path).glob(\"**/*[!_mask].tif\"))\n",
    "\n",
    "# Инициализация модели и препроцессинга\n",
    "model, preprocess = get_image_segmentation_model(name=image_model_type,\n",
    "                                                 pretrained=pretrained,\n",
    "                                                 freeze_weight=freeze_weight,\n",
    "                                                 num_classes=num_classes)\n",
    "\n",
    "# Инициализация датасета\n",
    "dataset = Brain_MRI_Dataset(path_array=path_array, image_preprocess=preprocess, augmented=False, device=device)\n",
    "\n",
    "# Инициализация функции потерь\n",
    "if criterion_name == \"BCEWithLogitsLoss\":\n",
    "    criterion = nn.BCEWithLogitsLoss()\n",
    "elif criterion_name == \"DiceLoss\":\n",
    "    criterion = DiceLoss()\n",
    "elif criterion_name == \"FocalLoss\":\n",
    "    criterion = FocalLoss()\n",
    "elif criterion_name == \"JaccardLoss\":\n",
    "    criterion = JaccardLoss()\n",
    "\n",
    "# Инициализация оптимизатора\n",
    "if optimizer_name == \"Adam\":\n",
    "    optimizer = optim.Adam(model.parameters(), lr=0.001)\n",
    "elif optimizer_name == \"AdamW\":\n",
    "    optimizer = optim.AdamW(model.parameters(), lr=0.001, weight_decay=0.01)\n",
    "\n",
    "# Загрузка чекпоинта\n",
    "start_epoch = 0\n",
    "current_pixelwise_accuracy = .0\n",
    "if checkpoint_path:\n",
    "    chekpoint = torch.load(checkpoint_path)\n",
    "    model.load_state_dict(chekpoint[\"model\"])\n",
    "    criterion.load_state_dict(chekpoint[\"loss\"])\n",
    "    optimizer.load_state_dict(chekpoint[\"optimizer\"])\n",
    "    start_epoch = chekpoint['epoch'] - 1\n",
    "    current_pixelwise_accuracy = chekpoint['pixelwise']\n",
    "    print(f\"Чекпоинт загружен\\nСохраненная эпоха: {start_epoch}\\nPixelwise Acc.: {current_pixelwise_accuracy}\")"
   ]
  },
  {
   "cell_type": "markdown",
   "id": "f1e6ddad",
   "metadata": {},
   "source": [
    "## Обучение"
   ]
  },
  {
   "cell_type": "code",
   "execution_count": null,
   "id": "5c4e0635",
   "metadata": {
    "collapsed": false,
    "jupyter": {
     "outputs_hidden": false
    }
   },
   "outputs": [],
   "source": [
    "train_segmentation(model=model, dataset=dataset, criterion=criterion, optimizer=optimizer, num_classes=num_classes,\n",
    "                   batch_size=batch_size, num_epochs=num_epochs, start_epoch=start_epoch, save_path=save_path,\n",
    "                   current_pixelwise_accuracy=current_pixelwise_accuracy, device=device)"
   ]
  },
  {
   "cell_type": "markdown",
   "id": "f53beb16",
   "metadata": {},
   "source": [
    "## Тестирование"
   ]
  },
  {
   "cell_type": "code",
   "execution_count": null,
   "id": "69065de3-f3b4-424d-b311-97120e41a0b3",
   "metadata": {},
   "outputs": [],
   "source": [
    "chekpoint = torch.load(save_path)\n",
    "model.load_state_dict(chekpoint[\"model\"])"
   ]
  },
  {
   "cell_type": "code",
   "execution_count": null,
   "id": "dace72f7-bf42-4dc9-9b15-d8f1ab371a2e",
   "metadata": {},
   "outputs": [],
   "source": [
    "image_path = \"D:/ProjectsData/Brain MRI segmentation/kaggle_3m/TCGA_CS_6669_20020102/TCGA_CS_6669_20020102_11.tif\"\n",
    "pil_orig_image, pil_predict, pil_predict_masks = test_segmentation(model=model, image_preprocess=preprocess,\n",
    "                                                                   image_path=image_path, proba_threshold=0.5, alpha=0.9,\n",
    "                                                                   device=device)"
   ]
  },
  {
   "cell_type": "code",
   "execution_count": null,
   "id": "d2ca3113",
   "metadata": {
    "collapsed": false,
    "jupyter": {
     "outputs_hidden": false
    }
   },
   "outputs": [],
   "source": [
    "pil_orig_image"
   ]
  },
  {
   "cell_type": "code",
   "execution_count": null,
   "id": "37f8e92f",
   "metadata": {
    "collapsed": false,
    "jupyter": {
     "outputs_hidden": false
    }
   },
   "outputs": [],
   "source": [
    "pil_predict"
   ]
  },
  {
   "cell_type": "code",
   "execution_count": null,
   "id": "efd1f439",
   "metadata": {
    "collapsed": false,
    "jupyter": {
     "outputs_hidden": false
    }
   },
   "outputs": [],
   "source": [
    "pil_predict_masks"
   ]
  },
  {
   "cell_type": "code",
   "execution_count": null,
   "id": "95f4ddb7-ad84-4dde-b840-6dbee92dd4cc",
   "metadata": {},
   "outputs": [],
   "source": []
  }
 ],
 "metadata": {
  "kernelspec": {
   "display_name": "Python 3 (ipykernel)",
   "language": "python",
   "name": "python3"
  },
  "language_info": {
   "codemirror_mode": {
    "name": "ipython",
    "version": 3
   },
   "file_extension": ".py",
   "mimetype": "text/x-python",
   "name": "python",
   "nbconvert_exporter": "python",
   "pygments_lexer": "ipython3",
   "version": "3.11.3"
  }
 },
 "nbformat": 4,
 "nbformat_minor": 5
}
